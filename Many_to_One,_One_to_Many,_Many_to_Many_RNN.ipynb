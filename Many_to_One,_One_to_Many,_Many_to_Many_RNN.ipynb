{
  "nbformat": 4,
  "nbformat_minor": 0,
  "metadata": {
    "colab": {
      "name": "Many to One, One to Many, Many to Many RNN.ipynb",
      "provenance": [],
      "authorship_tag": "ABX9TyMusv7pa2joov8G46tcOJJe",
      "include_colab_link": true
    },
    "kernelspec": {
      "name": "python3",
      "display_name": "Python 3"
    },
    "language_info": {
      "name": "python"
    }
  },
  "cells": [
    {
      "cell_type": "markdown",
      "metadata": {
        "id": "view-in-github",
        "colab_type": "text"
      },
      "source": [
        "<a href=\"https://colab.research.google.com/github/AbrahamKong/CMPE258-Recurrent_Neural_Network_and_Applications/blob/main/Many_to_One%2C_One_to_Many%2C_Many_to_Many_RNN.ipynb\" target=\"_parent\"><img src=\"https://colab.research.google.com/assets/colab-badge.svg\" alt=\"Open In Colab\"/></a>"
      ]
    },
    {
      "cell_type": "markdown",
      "source": [
        "# Set up"
      ],
      "metadata": {
        "id": "UssQdfENMnDo"
      }
    },
    {
      "cell_type": "code",
      "execution_count": 19,
      "metadata": {
        "id": "vput0tdKKFLA",
        "colab": {
          "base_uri": "https://localhost:8080/"
        },
        "outputId": "b288c755-59c3-4d34-fb6a-4e31ceb0c749"
      },
      "outputs": [
        {
          "output_type": "stream",
          "name": "stdout",
          "text": [
            "Tensorflow: 2.8.0\n"
          ]
        }
      ],
      "source": [
        "import tensorflow as tf\n",
        "import numpy as np\n",
        "import matplotlib.pyplot as plt\n",
        "import pandas as pd\n",
        "\n",
        "print('Tensorflow: {}'.format(tf.__version__))\n",
        "\n",
        "plt.rcParams['figure.figsize'] = (16, 10)\n",
        "plt.rc('font', size=15)"
      ]
    },
    {
      "cell_type": "markdown",
      "source": [
        "# One-to-Many"
      ],
      "metadata": {
        "id": "IPJYz-r-FZq9"
      }
    },
    {
      "cell_type": "code",
      "source": [
        "# ----- Define dummy data -----\n",
        "coordinates = np.random.random([10000, 50, 3]).astype(np.float32)\n",
        "temps = np.random.rand(10000,50)\n",
        "\n",
        "# ----- Define RNN model -----\n",
        "rnn_model = tf.keras.Sequential()\n",
        "rnn_model.add(tf.keras.layers.SimpleRNN(128))\n",
        "rnn_model.add(tf.keras.layers.Dense(50))\n",
        "\n",
        "# ----- Compile model -----\n",
        "rnn_model.compile(loss='mean_squared_error', optimizer=tf.keras.optimizers.Adam(1e-4))\n",
        "\n",
        "# ----- Train model -----\n",
        "history = rnn_model.fit(x=coordinates, y=temps, batch_size=32,epochs=50)"
      ],
      "metadata": {
        "colab": {
          "base_uri": "https://localhost:8080/"
        },
        "id": "1dd7NUZhPFU3",
        "outputId": "d85b69f4-8b92-476e-f66e-ec12597b2a6a"
      },
      "execution_count": 53,
      "outputs": [
        {
          "output_type": "stream",
          "name": "stdout",
          "text": [
            "Epoch 1/50\n",
            "313/313 [==============================] - 6s 17ms/step - loss: 0.1170\n",
            "Epoch 2/50\n",
            "313/313 [==============================] - 5s 16ms/step - loss: 0.0858\n",
            "Epoch 3/50\n",
            "313/313 [==============================] - 5s 17ms/step - loss: 0.0848\n",
            "Epoch 4/50\n",
            "313/313 [==============================] - 5s 17ms/step - loss: 0.0844\n",
            "Epoch 5/50\n",
            "313/313 [==============================] - 5s 17ms/step - loss: 0.0841\n",
            "Epoch 6/50\n",
            "313/313 [==============================] - 5s 16ms/step - loss: 0.0840\n",
            "Epoch 7/50\n",
            "313/313 [==============================] - 5s 16ms/step - loss: 0.0840\n",
            "Epoch 8/50\n",
            "313/313 [==============================] - 5s 16ms/step - loss: 0.0839\n",
            "Epoch 9/50\n",
            "313/313 [==============================] - 5s 16ms/step - loss: 0.0838\n",
            "Epoch 10/50\n",
            "313/313 [==============================] - 5s 17ms/step - loss: 0.0838\n",
            "Epoch 11/50\n",
            "313/313 [==============================] - 5s 16ms/step - loss: 0.0838\n",
            "Epoch 12/50\n",
            "313/313 [==============================] - 5s 17ms/step - loss: 0.0838\n",
            "Epoch 13/50\n",
            "313/313 [==============================] - 5s 16ms/step - loss: 0.0837\n",
            "Epoch 14/50\n",
            "313/313 [==============================] - 5s 16ms/step - loss: 0.0837\n",
            "Epoch 15/50\n",
            "313/313 [==============================] - 5s 16ms/step - loss: 0.0837\n",
            "Epoch 16/50\n",
            "313/313 [==============================] - 5s 16ms/step - loss: 0.0837\n",
            "Epoch 17/50\n",
            "313/313 [==============================] - 6s 18ms/step - loss: 0.0837\n",
            "Epoch 18/50\n",
            "313/313 [==============================] - 5s 16ms/step - loss: 0.0837\n",
            "Epoch 19/50\n",
            "313/313 [==============================] - 5s 17ms/step - loss: 0.0837\n",
            "Epoch 20/50\n",
            "313/313 [==============================] - 5s 16ms/step - loss: 0.0837\n",
            "Epoch 21/50\n",
            "313/313 [==============================] - 5s 16ms/step - loss: 0.0837\n",
            "Epoch 22/50\n",
            "313/313 [==============================] - 5s 16ms/step - loss: 0.0837\n",
            "Epoch 23/50\n",
            "313/313 [==============================] - 5s 16ms/step - loss: 0.0836\n",
            "Epoch 24/50\n",
            "313/313 [==============================] - 5s 16ms/step - loss: 0.0837\n",
            "Epoch 25/50\n",
            "313/313 [==============================] - 5s 17ms/step - loss: 0.0836\n",
            "Epoch 26/50\n",
            "313/313 [==============================] - 5s 16ms/step - loss: 0.0837\n",
            "Epoch 27/50\n",
            "313/313 [==============================] - 5s 16ms/step - loss: 0.0837\n",
            "Epoch 28/50\n",
            "313/313 [==============================] - 5s 16ms/step - loss: 0.0836\n",
            "Epoch 29/50\n",
            "313/313 [==============================] - 5s 16ms/step - loss: 0.0836\n",
            "Epoch 30/50\n",
            "313/313 [==============================] - 6s 19ms/step - loss: 0.0837\n",
            "Epoch 31/50\n",
            "313/313 [==============================] - 5s 16ms/step - loss: 0.0836\n",
            "Epoch 32/50\n",
            "313/313 [==============================] - 5s 16ms/step - loss: 0.0836\n",
            "Epoch 33/50\n",
            "313/313 [==============================] - 5s 17ms/step - loss: 0.0836\n",
            "Epoch 34/50\n",
            "313/313 [==============================] - 5s 17ms/step - loss: 0.0837\n",
            "Epoch 35/50\n",
            "313/313 [==============================] - 5s 17ms/step - loss: 0.0837\n",
            "Epoch 36/50\n",
            "313/313 [==============================] - 5s 17ms/step - loss: 0.0836\n",
            "Epoch 37/50\n",
            "313/313 [==============================] - 5s 16ms/step - loss: 0.0836\n",
            "Epoch 38/50\n",
            "313/313 [==============================] - 5s 16ms/step - loss: 0.0836\n",
            "Epoch 39/50\n",
            "313/313 [==============================] - 5s 17ms/step - loss: 0.0837\n",
            "Epoch 40/50\n",
            "313/313 [==============================] - 5s 17ms/step - loss: 0.0837\n",
            "Epoch 41/50\n",
            "313/313 [==============================] - 5s 16ms/step - loss: 0.0836\n",
            "Epoch 42/50\n",
            "313/313 [==============================] - 5s 17ms/step - loss: 0.0836\n",
            "Epoch 43/50\n",
            "313/313 [==============================] - 5s 17ms/step - loss: 0.0836\n",
            "Epoch 44/50\n",
            "313/313 [==============================] - 5s 16ms/step - loss: 0.0836\n",
            "Epoch 45/50\n",
            "313/313 [==============================] - 5s 17ms/step - loss: 0.0836\n",
            "Epoch 46/50\n",
            "313/313 [==============================] - 5s 17ms/step - loss: 0.0836\n",
            "Epoch 47/50\n",
            "313/313 [==============================] - 5s 17ms/step - loss: 0.0836\n",
            "Epoch 48/50\n",
            "313/313 [==============================] - 5s 17ms/step - loss: 0.0836\n",
            "Epoch 49/50\n",
            "313/313 [==============================] - 5s 16ms/step - loss: 0.0836\n",
            "Epoch 50/50\n",
            "313/313 [==============================] - 5s 16ms/step - loss: 0.0836\n"
          ]
        }
      ]
    },
    {
      "cell_type": "markdown",
      "source": [
        "# Many-to-One"
      ],
      "metadata": {
        "id": "eC3isa68LbX3"
      }
    },
    {
      "cell_type": "code",
      "source": [
        "words = ['good', 'bad', 'worse', 'so good']\n",
        "y = [1, 0, 0, 1]"
      ],
      "metadata": {
        "id": "BaXzazueMrca"
      },
      "execution_count": 20,
      "outputs": []
    },
    {
      "cell_type": "code",
      "source": [
        "char_set = ['<pad>'] + sorted(list(set(''.join(words))))\n",
        "idx2char = {idx:char for idx, char in enumerate(char_set)}\n",
        "char2idx = {char:idx for idx, char in enumerate(char_set)}"
      ],
      "metadata": {
        "id": "y8Wok9LMMrQr"
      },
      "execution_count": 21,
      "outputs": []
    },
    {
      "cell_type": "code",
      "source": [
        "char_set"
      ],
      "metadata": {
        "colab": {
          "base_uri": "https://localhost:8080/"
        },
        "id": "ZTRFjBLHMwtZ",
        "outputId": "345436e9-06fc-4adf-a81e-19d8f813429a"
      },
      "execution_count": 22,
      "outputs": [
        {
          "output_type": "execute_result",
          "data": {
            "text/plain": [
              "['<pad>', ' ', 'a', 'b', 'd', 'e', 'g', 'o', 'r', 's', 'w']"
            ]
          },
          "metadata": {},
          "execution_count": 22
        }
      ]
    },
    {
      "cell_type": "code",
      "source": [
        "idx2char"
      ],
      "metadata": {
        "colab": {
          "base_uri": "https://localhost:8080/"
        },
        "id": "vy_D8WX3MxWZ",
        "outputId": "10268eb6-e375-46ef-bbae-f5f1654c44c1"
      },
      "execution_count": 23,
      "outputs": [
        {
          "output_type": "execute_result",
          "data": {
            "text/plain": [
              "{0: '<pad>',\n",
              " 1: ' ',\n",
              " 2: 'a',\n",
              " 3: 'b',\n",
              " 4: 'd',\n",
              " 5: 'e',\n",
              " 6: 'g',\n",
              " 7: 'o',\n",
              " 8: 'r',\n",
              " 9: 's',\n",
              " 10: 'w'}"
            ]
          },
          "metadata": {},
          "execution_count": 23
        }
      ]
    },
    {
      "cell_type": "code",
      "source": [
        "char2idx"
      ],
      "metadata": {
        "colab": {
          "base_uri": "https://localhost:8080/"
        },
        "id": "8WOiazMnNGso",
        "outputId": "f75b1c47-1ed9-4e75-e469-abf90db0ce18"
      },
      "execution_count": 24,
      "outputs": [
        {
          "output_type": "execute_result",
          "data": {
            "text/plain": [
              "{' ': 1,\n",
              " '<pad>': 0,\n",
              " 'a': 2,\n",
              " 'b': 3,\n",
              " 'd': 4,\n",
              " 'e': 5,\n",
              " 'g': 6,\n",
              " 'o': 7,\n",
              " 'r': 8,\n",
              " 's': 9,\n",
              " 'w': 10}"
            ]
          },
          "metadata": {},
          "execution_count": 24
        }
      ]
    },
    {
      "cell_type": "code",
      "source": [
        "X = list(map(lambda word: [char2idx.get(char) for char in word], words))\n",
        "X_len = list(map(lambda word: len(word), X))"
      ],
      "metadata": {
        "id": "wB3SPkhENIBc"
      },
      "execution_count": 25,
      "outputs": []
    },
    {
      "cell_type": "code",
      "source": [
        "X"
      ],
      "metadata": {
        "colab": {
          "base_uri": "https://localhost:8080/"
        },
        "id": "SK4IyqojNIdt",
        "outputId": "9ec70efc-df23-48fa-d76b-fdbbade3bcf2"
      },
      "execution_count": 26,
      "outputs": [
        {
          "output_type": "execute_result",
          "data": {
            "text/plain": [
              "[[6, 7, 7, 4], [3, 2, 4], [10, 7, 8, 9, 5], [9, 7, 1, 6, 7, 7, 4]]"
            ]
          },
          "metadata": {},
          "execution_count": 26
        }
      ]
    },
    {
      "cell_type": "code",
      "source": [
        "X_len"
      ],
      "metadata": {
        "colab": {
          "base_uri": "https://localhost:8080/"
        },
        "id": "ju4zJBylNI5L",
        "outputId": "b6121ae4-b49a-4a05-89a0-f74eab1780be"
      },
      "execution_count": 27,
      "outputs": [
        {
          "output_type": "execute_result",
          "data": {
            "text/plain": [
              "[4, 3, 5, 7]"
            ]
          },
          "metadata": {},
          "execution_count": 27
        }
      ]
    },
    {
      "cell_type": "code",
      "source": [
        "from tensorflow.keras.preprocessing.sequence import pad_sequences\n",
        "\n",
        "# Padding the sequence of indices\n",
        "max_sequence=10\n",
        "\n",
        "X = pad_sequences(X, maxlen=max_sequence, padding='post', truncating='post')"
      ],
      "metadata": {
        "id": "P1-yRDm7NKTk"
      },
      "execution_count": 28,
      "outputs": []
    },
    {
      "cell_type": "code",
      "source": [
        "X"
      ],
      "metadata": {
        "colab": {
          "base_uri": "https://localhost:8080/"
        },
        "id": "AAzMvForNNE3",
        "outputId": "406f32e0-2580-43ee-f43b-49f51a079621"
      },
      "execution_count": 29,
      "outputs": [
        {
          "output_type": "execute_result",
          "data": {
            "text/plain": [
              "array([[ 6,  7,  7,  4,  0,  0,  0,  0,  0,  0],\n",
              "       [ 3,  2,  4,  0,  0,  0,  0,  0,  0,  0],\n",
              "       [10,  7,  8,  9,  5,  0,  0,  0,  0,  0],\n",
              "       [ 9,  7,  1,  6,  7,  7,  4,  0,  0,  0]], dtype=int32)"
            ]
          },
          "metadata": {},
          "execution_count": 29
        }
      ]
    },
    {
      "cell_type": "code",
      "source": [
        "y"
      ],
      "metadata": {
        "colab": {
          "base_uri": "https://localhost:8080/"
        },
        "id": "iX06k8EJNNne",
        "outputId": "6524aff8-d264-4c38-f7c2-bde9093cc71a"
      },
      "execution_count": 30,
      "outputs": [
        {
          "output_type": "execute_result",
          "data": {
            "text/plain": [
              "[1, 0, 0, 1]"
            ]
          },
          "metadata": {},
          "execution_count": 30
        }
      ]
    },
    {
      "cell_type": "code",
      "source": [
        "train_ds = tf.data.Dataset.from_tensor_slices((X, y)).shuffle(buffer_size=4).batch(batch_size=2)\n",
        "print(train_ds)"
      ],
      "metadata": {
        "colab": {
          "base_uri": "https://localhost:8080/"
        },
        "id": "JNwPwXz8NQfd",
        "outputId": "53e941d0-5f26-4686-c28b-c5521e0bc548"
      },
      "execution_count": 31,
      "outputs": [
        {
          "output_type": "stream",
          "name": "stdout",
          "text": [
            "<BatchDataset element_spec=(TensorSpec(shape=(None, 10), dtype=tf.int32, name=None), TensorSpec(shape=(None,), dtype=tf.int32, name=None))>\n"
          ]
        }
      ]
    },
    {
      "cell_type": "code",
      "source": [
        "input_dim = len(char2idx)\n",
        "output_dim = len(char2idx)"
      ],
      "metadata": {
        "id": "Bt25xZz3NRsj"
      },
      "execution_count": 32,
      "outputs": []
    },
    {
      "cell_type": "code",
      "source": [
        "from tensorflow.keras.models import Sequential\n",
        "from tensorflow.keras.layers import Embedding, SimpleRNN, Dense\n",
        "\n",
        "model = Sequential([\n",
        "    Embedding(input_dim=input_dim, output_dim=output_dim,\n",
        "              mask_zero=True, input_length=max_sequence,\n",
        "              trainable=False, embeddings_initializer=tf.keras.initializers.random_normal()),\n",
        "    SimpleRNN(units=10),\n",
        "    Dense(2)\n",
        "])\n",
        "\n",
        "model.summary()"
      ],
      "metadata": {
        "colab": {
          "base_uri": "https://localhost:8080/"
        },
        "id": "zsPBSDESNTR9",
        "outputId": "dfae3e7e-d1b2-436e-90ba-b12a5ac14846"
      },
      "execution_count": 33,
      "outputs": [
        {
          "output_type": "stream",
          "name": "stdout",
          "text": [
            "Model: \"sequential_1\"\n",
            "_________________________________________________________________\n",
            " Layer (type)                Output Shape              Param #   \n",
            "=================================================================\n",
            " embedding_1 (Embedding)     (None, 10, 11)            121       \n",
            "                                                                 \n",
            " simple_rnn_1 (SimpleRNN)    (None, 10)                220       \n",
            "                                                                 \n",
            " dense_1 (Dense)             (None, 2)                 22        \n",
            "                                                                 \n",
            "=================================================================\n",
            "Total params: 363\n",
            "Trainable params: 242\n",
            "Non-trainable params: 121\n",
            "_________________________________________________________________\n"
          ]
        }
      ]
    },
    {
      "cell_type": "code",
      "source": [
        "def loss_fn(model, X, y):\n",
        "    return tf.reduce_mean(tf.keras.losses.sparse_categorical_crossentropy(y_true=y, \n",
        "                                                                          y_pred=model(X), \n",
        "                                                                          from_logits=True))\n",
        "\n",
        "optimizer = tf.keras.optimizers.Adam(learning_rate=0.01)"
      ],
      "metadata": {
        "id": "FZ5gU5hqNUm4"
      },
      "execution_count": 34,
      "outputs": []
    },
    {
      "cell_type": "code",
      "source": [
        "tr_loss_hist = []\n",
        "\n",
        "for e in range(30):\n",
        "    avg_tr_loss = 0\n",
        "    tr_step = 0\n",
        "    \n",
        "    for x_mb, y_mb in train_ds:\n",
        "        with tf.GradientTape() as tape:\n",
        "            tr_loss = loss_fn(model, x_mb, y_mb)\n",
        "            \n",
        "        grads = tape.gradient(tr_loss, sources=model.variables)\n",
        "        optimizer.apply_gradients(grads_and_vars=zip(grads, model.variables))\n",
        "        avg_tr_loss += tr_loss\n",
        "        tr_step += 1\n",
        "    \n",
        "    avg_tr_loss /= tr_step\n",
        "    tr_loss_hist.append(avg_tr_loss)\n",
        "    \n",
        "    if (e + 1) % 5 == 0:\n",
        "        print('epoch: {:3}, tr_loss: {:3f}'.format(e + 1, avg_tr_loss))"
      ],
      "metadata": {
        "colab": {
          "base_uri": "https://localhost:8080/"
        },
        "id": "sP9CQfGHNWpW",
        "outputId": "c01283cb-1136-4ebe-ad26-ac8f51703006"
      },
      "execution_count": 35,
      "outputs": [
        {
          "output_type": "stream",
          "name": "stdout",
          "text": [
            "epoch:   5, tr_loss: 0.171965\n",
            "epoch:  10, tr_loss: 0.013123\n",
            "epoch:  15, tr_loss: 0.003617\n",
            "epoch:  20, tr_loss: 0.002060\n",
            "epoch:  25, tr_loss: 0.001536\n",
            "epoch:  30, tr_loss: 0.001288\n"
          ]
        }
      ]
    },
    {
      "cell_type": "code",
      "source": [
        "y_pred = model.predict(X)\n",
        "y_pred = np.argmax(y_pred, axis=-1)"
      ],
      "metadata": {
        "id": "yopRLkNdNYxF"
      },
      "execution_count": 36,
      "outputs": []
    },
    {
      "cell_type": "code",
      "source": [
        "print('acc: {:.2%}'.format(np.mean(y_pred == y)))"
      ],
      "metadata": {
        "colab": {
          "base_uri": "https://localhost:8080/"
        },
        "id": "efm96YJVNaRh",
        "outputId": "149873bd-f3cb-4d4b-e102-40b251762bdb"
      },
      "execution_count": 37,
      "outputs": [
        {
          "output_type": "stream",
          "name": "stdout",
          "text": [
            "acc: 100.00%\n"
          ]
        }
      ]
    },
    {
      "cell_type": "code",
      "source": [
        "plt.figure()\n",
        "plt.plot(tr_loss_hist)\n",
        "plt.show()"
      ],
      "metadata": {
        "colab": {
          "base_uri": "https://localhost:8080/",
          "height": 597
        },
        "id": "OhWnp0FuNavX",
        "outputId": "278ce9c9-084b-44b5-cacf-178744facb78"
      },
      "execution_count": 38,
      "outputs": [
        {
          "output_type": "display_data",
          "data": {
            "text/plain": [
              "<Figure size 1152x720 with 1 Axes>"
            ],
            "image/png": "[encoded data removed]"
          },
          "metadata": {
            "needs_background": "light"
          }
        }
      ]
    },
    {
      "cell_type": "markdown",
      "source": [
        "# Many-to-Many"
      ],
      "metadata": {
        "id": "zbs6a9JMLZ3o"
      }
    },
    {
      "cell_type": "code",
      "source": [
        "sentences = [['I', 'feel', 'hungry'],\n",
        "             ['tensorflow', 'is', 'very', 'difficult'],\n",
        "             ['tensorflow', 'is', 'a', 'framework', 'for', 'deep', 'learning'],\n",
        "             ['tensorflow', 'is', 'very', 'fast', 'changing']]\n",
        "\n",
        "pos = [['pronoun', 'verb', 'adjective'], \n",
        "       ['noun', 'verb', 'adverb', 'adjective'],\n",
        "       ['noun', 'verb', 'determiner', 'noun', 'preposition', 'adjective', 'noun'],\n",
        "       ['noun', 'verb', 'adverb', 'adjective', 'verb']]"
      ],
      "metadata": {
        "id": "MKmkoQT5Ggw-"
      },
      "execution_count": 39,
      "outputs": []
    },
    {
      "cell_type": "code",
      "source": [
        "word_list =['<pad>'] + sorted(set(sum(sentences, []))) \n",
        "word2idx = {word:idx for idx, word in enumerate(word_list)}\n",
        "idx2word = {idx:word for idx, word in enumerate(word_list)}\n",
        "\n",
        "print(word_list)\n",
        "print(word2idx)\n",
        "print(idx2word)"
      ],
      "metadata": {
        "colab": {
          "base_uri": "https://localhost:8080/"
        },
        "id": "V0b-7YKIGjQ_",
        "outputId": "15a62afd-8ab6-4b5b-fd1b-92089118481d"
      },
      "execution_count": 40,
      "outputs": [
        {
          "output_type": "stream",
          "name": "stdout",
          "text": [
            "['<pad>', 'I', 'a', 'changing', 'deep', 'difficult', 'fast', 'feel', 'for', 'framework', 'hungry', 'is', 'learning', 'tensorflow', 'very']\n",
            "{'<pad>': 0, 'I': 1, 'a': 2, 'changing': 3, 'deep': 4, 'difficult': 5, 'fast': 6, 'feel': 7, 'for': 8, 'framework': 9, 'hungry': 10, 'is': 11, 'learning': 12, 'tensorflow': 13, 'very': 14}\n",
            "{0: '<pad>', 1: 'I', 2: 'a', 3: 'changing', 4: 'deep', 5: 'difficult', 6: 'fast', 7: 'feel', 8: 'for', 9: 'framework', 10: 'hungry', 11: 'is', 12: 'learning', 13: 'tensorflow', 14: 'very'}\n"
          ]
        }
      ]
    },
    {
      "cell_type": "code",
      "source": [
        "pos_list = ['<pad>'] + sorted(set(sum(pos, [])))\n",
        "pos2idx = {pos:idx for idx, pos in enumerate(pos_list)}\n",
        "idx2pos = {idx:pos for idx, pos in enumerate(pos_list)}\n",
        "\n",
        "print(pos_list)\n",
        "print(pos2idx)\n",
        "print(idx2pos)"
      ],
      "metadata": {
        "colab": {
          "base_uri": "https://localhost:8080/"
        },
        "id": "MNXrl1umGks8",
        "outputId": "395303f6-ccd7-47d1-bda0-2ac3dab5f71d"
      },
      "execution_count": 41,
      "outputs": [
        {
          "output_type": "stream",
          "name": "stdout",
          "text": [
            "['<pad>', 'adjective', 'adverb', 'determiner', 'noun', 'preposition', 'pronoun', 'verb']\n",
            "{'<pad>': 0, 'adjective': 1, 'adverb': 2, 'determiner': 3, 'noun': 4, 'preposition': 5, 'pronoun': 6, 'verb': 7}\n",
            "{0: '<pad>', 1: 'adjective', 2: 'adverb', 3: 'determiner', 4: 'noun', 5: 'preposition', 6: 'pronoun', 7: 'verb'}\n"
          ]
        }
      ]
    },
    {
      "cell_type": "code",
      "source": [
        "X = list(map(lambda sentence: [word2idx.get(token) for token in sentence], sentences))\n",
        "y = list(map(lambda sentence: [pos2idx.get(token) for token in sentence], pos))\n",
        "\n",
        "print(X)\n",
        "print(y)"
      ],
      "metadata": {
        "colab": {
          "base_uri": "https://localhost:8080/"
        },
        "id": "swow0QnIGmS4",
        "outputId": "8845029e-5cac-4b65-b7b1-d6b1e6699f24"
      },
      "execution_count": 42,
      "outputs": [
        {
          "output_type": "stream",
          "name": "stdout",
          "text": [
            "[[1, 7, 10], [13, 11, 14, 5], [13, 11, 2, 9, 8, 4, 12], [13, 11, 14, 6, 3]]\n",
            "[[6, 7, 1], [4, 7, 2, 1], [4, 7, 3, 4, 5, 1, 4], [4, 7, 2, 1, 7]]\n"
          ]
        }
      ]
    },
    {
      "cell_type": "code",
      "source": [
        "from tensorflow.keras.preprocessing.sequence import pad_sequences\n",
        "\n",
        "X = pad_sequences(X, maxlen=10, padding='post')\n",
        "X_mask = (X != 0).astype(np.float32)\n",
        "X_len = np.array(list((map(lambda sentence: len(sentence), sentences))), dtype=np.float32)\n",
        "\n",
        "print(X)\n",
        "print(X_mask)\n",
        "print(X_len)"
      ],
      "metadata": {
        "colab": {
          "base_uri": "https://localhost:8080/"
        },
        "id": "N6KIOEBRGnsq",
        "outputId": "62987c62-7234-458c-94b5-dd956634beaf"
      },
      "execution_count": 43,
      "outputs": [
        {
          "output_type": "stream",
          "name": "stdout",
          "text": [
            "[[ 1  7 10  0  0  0  0  0  0  0]\n",
            " [13 11 14  5  0  0  0  0  0  0]\n",
            " [13 11  2  9  8  4 12  0  0  0]\n",
            " [13 11 14  6  3  0  0  0  0  0]]\n",
            "[[1. 1. 1. 0. 0. 0. 0. 0. 0. 0.]\n",
            " [1. 1. 1. 1. 0. 0. 0. 0. 0. 0.]\n",
            " [1. 1. 1. 1. 1. 1. 1. 0. 0. 0.]\n",
            " [1. 1. 1. 1. 1. 0. 0. 0. 0. 0.]]\n",
            "[3. 4. 7. 5.]\n"
          ]
        }
      ]
    },
    {
      "cell_type": "code",
      "source": [
        "y = pad_sequences(y, maxlen=10, padding='post')\n",
        "\n",
        "print(y)"
      ],
      "metadata": {
        "colab": {
          "base_uri": "https://localhost:8080/"
        },
        "id": "zBsI_f3iGpgE",
        "outputId": "8851097a-11f8-4a08-fe6a-8ef9b564ce3d"
      },
      "execution_count": 44,
      "outputs": [
        {
          "output_type": "stream",
          "name": "stdout",
          "text": [
            "[[6 7 1 0 0 0 0 0 0 0]\n",
            " [4 7 2 1 0 0 0 0 0 0]\n",
            " [4 7 3 4 5 1 4 0 0 0]\n",
            " [4 7 2 1 7 0 0 0 0 0]]\n"
          ]
        }
      ]
    },
    {
      "cell_type": "code",
      "source": [
        "train_ds = tf.data.Dataset.from_tensor_slices((X, y, X_len)).shuffle(buffer_size=4).batch(batch_size=2)\n",
        "\n",
        "print(train_ds)"
      ],
      "metadata": {
        "colab": {
          "base_uri": "https://localhost:8080/"
        },
        "id": "KmEn3XbZGq2W",
        "outputId": "f89de434-4448-4631-ea18-7e8cd985ca79"
      },
      "execution_count": 45,
      "outputs": [
        {
          "output_type": "stream",
          "name": "stdout",
          "text": [
            "<BatchDataset element_spec=(TensorSpec(shape=(None, 10), dtype=tf.int32, name=None), TensorSpec(shape=(None, 10), dtype=tf.int32, name=None), TensorSpec(shape=(None,), dtype=tf.float32, name=None))>\n"
          ]
        }
      ]
    },
    {
      "cell_type": "markdown",
      "source": [
        "## Model implementation"
      ],
      "metadata": {
        "id": "AOx2kmEqGtX8"
      }
    },
    {
      "cell_type": "code",
      "source": [
        "num_classes = len(pos2idx)\n",
        "input_dim = len(word2idx)\n",
        "output_dim = len(word2idx)"
      ],
      "metadata": {
        "id": "Aivn2zNCGvIt"
      },
      "execution_count": 46,
      "outputs": []
    },
    {
      "cell_type": "code",
      "source": [
        "from tensorflow.keras.models import Sequential\n",
        "from tensorflow.keras.layers import Embedding, TimeDistributed, Dense, SimpleRNN\n",
        "\n",
        "model = Sequential([\n",
        "    Embedding(input_dim=input_dim, output_dim=output_dim,\n",
        "              mask_zero=True, trainable=False, input_length=10,\n",
        "              embeddings_initializer=tf.keras.initializers.random_normal()),\n",
        "    SimpleRNN(units=10, return_sequences=True),\n",
        "    TimeDistributed(Dense(units=num_classes))\n",
        "])\n",
        "\n",
        "model.summary()"
      ],
      "metadata": {
        "colab": {
          "base_uri": "https://localhost:8080/"
        },
        "id": "nIzK2lDGGwbR",
        "outputId": "844b5417-f712-4653-8a3d-1b6bf762e6ff"
      },
      "execution_count": 47,
      "outputs": [
        {
          "output_type": "stream",
          "name": "stdout",
          "text": [
            "Model: \"sequential_2\"\n",
            "_________________________________________________________________\n",
            " Layer (type)                Output Shape              Param #   \n",
            "=================================================================\n",
            " embedding_2 (Embedding)     (None, 10, 15)            225       \n",
            "                                                                 \n",
            " simple_rnn_2 (SimpleRNN)    (None, 10, 10)            260       \n",
            "                                                                 \n",
            " time_distributed_1 (TimeDis  (None, 10, 8)            88        \n",
            " tributed)                                                       \n",
            "                                                                 \n",
            "=================================================================\n",
            "Total params: 573\n",
            "Trainable params: 348\n",
            "Non-trainable params: 225\n",
            "_________________________________________________________________\n"
          ]
        }
      ]
    },
    {
      "cell_type": "code",
      "source": [
        "def loss_fn(model, x, y, x_len, max_sequence):\n",
        "    masking = tf.sequence_mask(x_len, maxlen=max_sequence, dtype=tf.float32)\n",
        "    sequence_loss = tf.keras.losses.sparse_categorical_crossentropy(\n",
        "        y_true=y, y_pred=model(x), from_logits=True\n",
        "    ) * masking\n",
        "    sequence_loss = tf.reduce_mean(tf.reduce_sum(sequence_loss, axis=1) / x_len)\n",
        "    return sequence_loss\n",
        "\n",
        "optimizer = tf.keras.optimizers.Adam(learning_rate=0.1)"
      ],
      "metadata": {
        "id": "MCTae0nmGx8M"
      },
      "execution_count": 48,
      "outputs": []
    },
    {
      "cell_type": "code",
      "source": [
        "tr_loss_hist = []\n",
        "\n",
        "for e in range(30):\n",
        "    avg_tr_loss = 0\n",
        "    tr_step = 0\n",
        "    \n",
        "    for x_mb, y_mb, x_mb_len in train_ds:\n",
        "        with tf.GradientTape() as tape:\n",
        "            tr_loss = loss_fn(model, x_mb, y_mb, x_mb_len, max_sequence=10)\n",
        "        grads = tape.gradient(tr_loss, model.trainable_variables)\n",
        "        optimizer.apply_gradients(grads_and_vars=zip(grads, model.trainable_variables))\n",
        "        avg_tr_loss += tr_loss\n",
        "        tr_step += 1\n",
        "    avg_tr_loss /= tr_step\n",
        "    tr_loss_hist.append(avg_tr_loss)\n",
        "    \n",
        "    if (e + 1) % 5 == 0:\n",
        "        print('Epoch: {:3}, tr_loss: {:.3f}'.format(e+1, avg_tr_loss))"
      ],
      "metadata": {
        "colab": {
          "base_uri": "https://localhost:8080/"
        },
        "id": "CrhwXH6UGzqk",
        "outputId": "d87ea95c-e289-452b-c07e-df6e9d64f539"
      },
      "execution_count": 49,
      "outputs": [
        {
          "output_type": "stream",
          "name": "stdout",
          "text": [
            "Epoch:   5, tr_loss: 0.736\n",
            "Epoch:  10, tr_loss: 0.274\n",
            "Epoch:  15, tr_loss: 0.120\n",
            "Epoch:  20, tr_loss: 0.024\n",
            "Epoch:  25, tr_loss: 0.007\n",
            "Epoch:  30, tr_loss: 0.004\n"
          ]
        }
      ]
    },
    {
      "cell_type": "code",
      "source": [
        "y_pred = model.predict(X)\n",
        "y_pred = np.argmax(y_pred, axis=-1) * X_mask\n",
        "\n",
        "y_pred"
      ],
      "metadata": {
        "colab": {
          "base_uri": "https://localhost:8080/"
        },
        "id": "dNSzMxlfG1Hq",
        "outputId": "8d08b95a-9aa7-4e58-d76d-bfd6933d5a5f"
      },
      "execution_count": 50,
      "outputs": [
        {
          "output_type": "execute_result",
          "data": {
            "text/plain": [
              "array([[6., 7., 1., 0., 0., 0., 0., 0., 0., 0.],\n",
              "       [4., 7., 2., 1., 0., 0., 0., 0., 0., 0.],\n",
              "       [4., 7., 3., 4., 5., 1., 4., 0., 0., 0.],\n",
              "       [4., 7., 2., 1., 7., 0., 0., 0., 0., 0.]])"
            ]
          },
          "metadata": {},
          "execution_count": 50
        }
      ]
    },
    {
      "cell_type": "code",
      "source": [
        "from pprint import pprint\n",
        "\n",
        "y_pred_pos = list(map(lambda row: [idx2pos.get(elm) for elm in row], y_pred.astype(np.int32).tolist()))\n",
        "\n",
        "pprint(y_pred_pos)\n",
        "\n",
        "pprint(pos)"
      ],
      "metadata": {
        "colab": {
          "base_uri": "https://localhost:8080/"
        },
        "id": "_YxpbqFPG2WK",
        "outputId": "52c9ed12-1f2a-469f-d146-e1022a4ca037"
      },
      "execution_count": 51,
      "outputs": [
        {
          "output_type": "stream",
          "name": "stdout",
          "text": [
            "[['pronoun',\n",
            "  'verb',\n",
            "  'adjective',\n",
            "  '<pad>',\n",
            "  '<pad>',\n",
            "  '<pad>',\n",
            "  '<pad>',\n",
            "  '<pad>',\n",
            "  '<pad>',\n",
            "  '<pad>'],\n",
            " ['noun',\n",
            "  'verb',\n",
            "  'adverb',\n",
            "  'adjective',\n",
            "  '<pad>',\n",
            "  '<pad>',\n",
            "  '<pad>',\n",
            "  '<pad>',\n",
            "  '<pad>',\n",
            "  '<pad>'],\n",
            " ['noun',\n",
            "  'verb',\n",
            "  'determiner',\n",
            "  'noun',\n",
            "  'preposition',\n",
            "  'adjective',\n",
            "  'noun',\n",
            "  '<pad>',\n",
            "  '<pad>',\n",
            "  '<pad>'],\n",
            " ['noun',\n",
            "  'verb',\n",
            "  'adverb',\n",
            "  'adjective',\n",
            "  'verb',\n",
            "  '<pad>',\n",
            "  '<pad>',\n",
            "  '<pad>',\n",
            "  '<pad>',\n",
            "  '<pad>']]\n",
            "[['pronoun', 'verb', 'adjective'],\n",
            " ['noun', 'verb', 'adverb', 'adjective'],\n",
            " ['noun', 'verb', 'determiner', 'noun', 'preposition', 'adjective', 'noun'],\n",
            " ['noun', 'verb', 'adverb', 'adjective', 'verb']]\n"
          ]
        }
      ]
    },
    {
      "cell_type": "code",
      "source": [
        "plt.figure()\n",
        "plt.plot(tr_loss_hist)\n",
        "plt.title('Training loss for many-to-many model')\n",
        "plt.show()"
      ],
      "metadata": {
        "colab": {
          "base_uri": "https://localhost:8080/",
          "height": 616
        },
        "id": "tZHfI_7AG4HI",
        "outputId": "d7feb713-325e-4fa3-c463-1b38d0346f48"
      },
      "execution_count": 52,
      "outputs": [
        {
          "output_type": "display_data",
          "data": {
            "text/plain": [
              "<Figure size 1152x720 with 1 Axes>"
            ],
            "image/png": "[encoded data removed]"
          },
          "metadata": {
            "needs_background": "light"
          }
        }
      ]
    },
    {
      "cell_type": "markdown",
      "source": [
        "# Reference\n",
        "\n",
        "1. [LSTM RNN in Keras: Examples of One-to-Many, Many-to-One & Many-to-Many](https://wandb.ai/ayush-thakur/dl-question-bank/reports/LSTM-RNN-in-Keras-Examples-of-One-to-Many-Many-to-One-Many-to-Many---VmlldzoyMDIzOTM)\n",
        "2. [RNN - Many-to-one](https://goodboychan.github.io/python/deep_learning/tensorflow-keras/2020/12/06/01-RNN-Many-to-one.html)\n",
        "3. [RNN - Many-to-many](https://goodboychan.github.io/python/deep_learning/tensorflow-keras/2020/12/09/01-RNN-Many-to-many.html)\n",
        "4. [How to build a one-to-many RNN in Tensorflow](https://stackoverflow.com/questions/64276284/how-to-build-a-one-to-many-rnn-in-tensorflow)"
      ],
      "metadata": {
        "id": "viRavmM_EYTN"
      }
    }
  ]
}